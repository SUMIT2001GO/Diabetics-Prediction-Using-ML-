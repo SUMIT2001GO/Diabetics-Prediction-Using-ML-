{
 "cells": [
  {
   "cell_type": "code",
   "execution_count": 1,
   "id": "136c53a3-8878-4562-8b37-579d59980871",
   "metadata": {},
   "outputs": [],
   "source": [
    "import numpy as np\n",
    "import pandas as pd\n",
    "from sklearn.preprocessing import StandardScaler\n",
    "from sklearn.model_selection import train_test_split\n",
    "from sklearn import svm\n",
    "from sklearn.metrics import accuracy_score\n",
    "from sklearn.model_selection import GridSearchCV\n",
    "import joblib"
   ]
  },
  {
   "cell_type": "code",
   "execution_count": 6,
   "id": "d69eec39-0efa-4acf-b1d2-6607cdfee534",
   "metadata": {},
   "outputs": [
    {
     "name": "stdout",
     "output_type": "stream",
     "text": [
      "     Pregnancies  Glucose  BloodPressure  SkinThickness  Insulin   BMI  \\\n",
      "0              6      148             72             35        0  33.6   \n",
      "1              1       85             66             29        0  26.6   \n",
      "2              8      183             64              0        0  23.3   \n",
      "3              1       89             66             23       94  28.1   \n",
      "4              0      137             40             35      168  43.1   \n",
      "..           ...      ...            ...            ...      ...   ...   \n",
      "763           10      101             76             48      180  32.9   \n",
      "764            2      122             70             27        0  36.8   \n",
      "765            5      121             72             23      112  26.2   \n",
      "766            1      126             60              0        0  30.1   \n",
      "767            1       93             70             31        0  30.4   \n",
      "\n",
      "     DiabetesPedigreeFunction  Age  Outcome  \n",
      "0                       0.627   50        1  \n",
      "1                       0.351   31        0  \n",
      "2                       0.672   32        1  \n",
      "3                       0.167   21        0  \n",
      "4                       2.288   33        1  \n",
      "..                        ...  ...      ...  \n",
      "763                     0.171   63        0  \n",
      "764                     0.340   27        0  \n",
      "765                     0.245   30        0  \n",
      "766                     0.349   47        1  \n",
      "767                     0.315   23        0  \n",
      "\n",
      "[768 rows x 9 columns]\n"
     ]
    }
   ],
   "source": [
    "diabetes_dataset = pd.read_csv('diabetes-pima-indian-dataset.csv')\n",
    "print(diabetes_dataset)"
   ]
  },
  {
   "cell_type": "code",
   "execution_count": 7,
   "id": "36760ea1-87ac-44b9-bb0f-6da8ed551a26",
   "metadata": {},
   "outputs": [
    {
     "name": "stdout",
     "output_type": "stream",
     "text": [
      "Accuracy Score of the training data: 0.881578947368421\n",
      "Accuracy Score of the test data: 0.7658959537572254\n",
      "[[-1.14185152 -3.15771081 -0.98770975 -0.03365099 -0.50186686 -1.14133123\n",
      "  -1.18351294 -0.95646168]]\n",
      "[0]\n",
      "Not Diabetic\n"
     ]
    },
    {
     "name": "stderr",
     "output_type": "stream",
     "text": [
      "C:\\Users\\SUMIT MITRA\\anaconda3\\Lib\\site-packages\\sklearn\\svm\\_base.py:299: ConvergenceWarning: Solver terminated early (max_iter=120).  Consider pre-processing your data with StandardScaler or MinMaxScaler.\n",
      "  warnings.warn(\n",
      "C:\\Users\\SUMIT MITRA\\anaconda3\\Lib\\site-packages\\sklearn\\base.py:439: UserWarning: X does not have valid feature names, but StandardScaler was fitted with feature names\n",
      "  warnings.warn(\n"
     ]
    }
   ],
   "source": [
    "X = diabetes_dataset.drop(columns='Outcome',axis = 1)\n",
    "Y = diabetes_dataset['Outcome']\n",
    "#data standardization\n",
    "scalar = StandardScaler()\n",
    "scalar.fit(X)\n",
    "standardized_data = scalar.transform(X)\n",
    "X= standardized_data\n",
    "Y = diabetes_dataset['Outcome']\n",
    "X_train,X_test,Y_train,Y_test = train_test_split(X,Y, test_size = 0.9, stratify=Y, random_state=9)\n",
    "#training the model\n",
    "classifier = svm.SVC(kernel='linear',max_iter=120)\n",
    "#training the support vector machine classifier\n",
    "classifier.fit(X_train, Y_train)\n",
    "#joblib dumping for streamlit\n",
    "joblib.dump(classifier,'diabetes_model.joblib')\n",
    "#module evaluation\n",
    "#Accuracy Score on the training data\n",
    "\n",
    "X_train_prediction = classifier.predict(X_train)\n",
    "training_data_accuracy = accuracy_score(X_train_prediction,Y_train)\n",
    "print('Accuracy Score of the training data:',training_data_accuracy)\n",
    "#Accuracy Score on the test data\n",
    "X_test_prediction = classifier.predict(X_test)\n",
    "test_data_accuracy = accuracy_score(X_test_prediction,Y_test)\n",
    "print('Accuracy Score of the test data:',test_data_accuracy)\n",
    "#making a predictive data\n",
    "input_data = (0,20,50,20,22,23,0.080,22)\n",
    "#changing the input_data to numpy array\n",
    "input_data_as_numpy_array = np.asarray(input_data)\n",
    "#reshape the array data\n",
    "input_data_reshaped = input_data_as_numpy_array.reshape(1,-1)\n",
    "#standardize the input data\n",
    "std_data = scalar.transform(input_data_reshaped)\n",
    "print(std_data)\n",
    "prediction = classifier.predict(std_data)\n",
    "print(prediction)\n",
    "#print(prediction)\n",
    "if(prediction == 0):\n",
    "  print(\"Not Diabetic\")\n",
    "else:\n",
    "  print(\"Diabetic\")"
   ]
  },
  {
   "cell_type": "code",
   "execution_count": null,
   "id": "bfad6aa6-8671-4770-bede-3850350852c5",
   "metadata": {},
   "outputs": [],
   "source": []
  }
 ],
 "metadata": {
  "kernelspec": {
   "display_name": "Python 3 (ipykernel)",
   "language": "python",
   "name": "python3"
  },
  "language_info": {
   "codemirror_mode": {
    "name": "ipython",
    "version": 3
   },
   "file_extension": ".py",
   "mimetype": "text/x-python",
   "name": "python",
   "nbconvert_exporter": "python",
   "pygments_lexer": "ipython3",
   "version": "3.11.7"
  }
 },
 "nbformat": 4,
 "nbformat_minor": 5
}
